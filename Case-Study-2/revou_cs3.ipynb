{
  "nbformat": 4,
  "nbformat_minor": 0,
  "metadata": {
    "colab": {
      "provenance": [],
      "toc_visible": true,
      "mount_file_id": "1K65S1XOScKpCJszOotpwJQ_Wj9FGn1hS",
      "authorship_tag": "ABX9TyPqX87B02YrTIxb1XSR2xCI",
      "include_colab_link": true
    },
    "kernelspec": {
      "name": "python3",
      "display_name": "Python 3"
    },
    "language_info": {
      "name": "python"
    }
  },
  "cells": [
    {
      "cell_type": "markdown",
      "metadata": {
        "id": "view-in-github",
        "colab_type": "text"
      },
      "source": [
        "<a href=\"https://colab.research.google.com/github/bagusakhlaq/RevoU-DAMC-Case-Study/blob/main/Case-Study-2/revou_cs3.ipynb\" target=\"_parent\"><img src=\"https://colab.research.google.com/assets/colab-badge.svg\" alt=\"Open In Colab\"/></a>"
      ]
    },
    {
      "cell_type": "markdown",
      "source": [
        "### Case Study 3: Games Sales\n",
        "# **RevoU DAMC**\n",
        "---"
      ],
      "metadata": {
        "id": "MTOOhsr6-buL"
      }
    },
    {
      "cell_type": "markdown",
      "source": [
        "## **Introduction**\n",
        "> **Case Study Instructions:** <br>\n",
        "> 1.\tYou have to provide your answer in slides. We’d like to point out that how you present the answer matters to us.\n",
        "2.\tAnswer the questions and problems below to the best of your ability.\n",
        "3.\tYou may use any outside resources necessary to help in your answer.\n",
        "4.\tYou may use Python, Data Studio, or any other tool you wish. Please provide the codes used to produce the answers\n",
        "5.\tPlease use the following tools to answer the questions: 1) Google slide for the presentation; 2) Google sheet for any spreadsheet and calculation instead of microsoft excel.\n",
        ">\n",
        "> Gaming industry is an interesting field to explore, it would be fun knowing who is the most popular publishers and developers and which games are the most popular. <br>\n",
        "> Content data: \n",
        "> * Name: Name of the game \n",
        "> * Sales: Sales of the game in Millions\n",
        "> * Series: Series of the game\n",
        "> * Release: Release date of the game\n",
        "> * Genre: Genre of the game \n",
        "> * Developer: Developer of the game \n",
        "> * Publisher: Publisher of the game\n",
        "> \n",
        "\n"
      ],
      "metadata": {
        "id": "8Hf32APYC91n"
      }
    },
    {
      "cell_type": "markdown",
      "source": [
        "## 1. Ask\n"
      ],
      "metadata": {
        "id": "dPTgvbsMDM68"
      }
    },
    {
      "cell_type": "markdown",
      "source": [
        "### 1.1 Business Objectives\n",
        "* Which game is the oldest  and the newest games in that dataset?\n",
        "* Which publisher published most of the games ?\n",
        "* Which developer developed most of the games ?\n",
        "* Which series is the most sales ?\n",
        "* Which series have the most games ?\n"
      ],
      "metadata": {
        "id": "6w3PhNGQ_KlQ"
      }
    },
    {
      "cell_type": "markdown",
      "source": [
        "### 1.2 Business Tasks\n",
        "Find the most popular publishers and developers and which games are the most popular."
      ],
      "metadata": {
        "id": "FyWwZ-Tl_MbG"
      }
    },
    {
      "cell_type": "markdown",
      "source": [
        "## 2. Prepare\n"
      ],
      "metadata": {
        "id": "nYVRIQrrDdwK"
      }
    },
    {
      "cell_type": "markdown",
      "source": [
        "### 2.1 Work Steps\n",
        "The dataset was provided by RevoU in their google sheet. To obtain the dataset, I copied the spreadsheet into my Google drive folder. First thing I did was preparing all Python libraries required for the analysis by importing them in this notebook. I imported Pandas for processing .csv file into a dataframe and plotting it into a basic visualization and Matplotlib for advanced data visualization. "
      ],
      "metadata": {
        "id": "MK02kSaR_BCr"
      }
    },
    {
      "cell_type": "code",
      "execution_count": 2,
      "metadata": {
        "id": "H-qkFwSp-LCF"
      },
      "outputs": [],
      "source": [
        "import pandas as pd\n",
        "import matplotlib.pyplot as plt"
      ]
    },
    {
      "cell_type": "markdown",
      "source": [
        "After all libraries imported, then I loaded the data into a dataframe using pandas command. Then, I checked the first 5 row of data using head() function in pandas to make sure the data was successfully loaded."
      ],
      "metadata": {
        "id": "X1VsK9fIk1tK"
      }
    },
    {
      "cell_type": "code",
      "source": [
        "files = \"/content/drive/MyDrive/Data Analyst Project/revou-cs3/games_sales.csv\"\n",
        "df = pd.read_csv(files)\n",
        "df.head(5)"
      ],
      "metadata": {
        "colab": {
          "base_uri": "https://localhost:8080/",
          "height": 206
        },
        "id": "cQHeh4p7holU",
        "outputId": "f079753b-b3eb-47d4-ee8e-b59870398b25"
      },
      "execution_count": 3,
      "outputs": [
        {
          "output_type": "execute_result",
          "data": {
            "text/plain": [
              "                            Name  Sales     Series    Release  \\\n",
              "0  PlayerUnknown's Battlegrounds   42.0        NaN  12/1/2017   \n",
              "1                      Minecraft   33.0  Minecraft  11/1/2011   \n",
              "2                     Diablo III   20.0     Diablo   5/1/2012   \n",
              "3                    Garry's Mod   20.0        NaN  11/1/2006   \n",
              "4                       Terraria   17.2        NaN   5/1/2011   \n",
              "\n",
              "                 Genre               Developer               Publisher  \n",
              "0        Battle royale            PUBG Studios                 Krafton  \n",
              "1    Sandbox, survival          Mojang Studios          Mojang Studios  \n",
              "2  Action role-playing  Blizzard Entertainment  Blizzard Entertainment  \n",
              "3              Sandbox       Facepunch Studios                   Valve  \n",
              "4     Action-adventure                Re-Logic                Re-Logic  "
            ],
            "text/html": [
              "\n",
              "  <div id=\"df-99023a9a-8c33-48bd-8931-b818e76a6e05\">\n",
              "    <div class=\"colab-df-container\">\n",
              "      <div>\n",
              "<style scoped>\n",
              "    .dataframe tbody tr th:only-of-type {\n",
              "        vertical-align: middle;\n",
              "    }\n",
              "\n",
              "    .dataframe tbody tr th {\n",
              "        vertical-align: top;\n",
              "    }\n",
              "\n",
              "    .dataframe thead th {\n",
              "        text-align: right;\n",
              "    }\n",
              "</style>\n",
              "<table border=\"1\" class=\"dataframe\">\n",
              "  <thead>\n",
              "    <tr style=\"text-align: right;\">\n",
              "      <th></th>\n",
              "      <th>Name</th>\n",
              "      <th>Sales</th>\n",
              "      <th>Series</th>\n",
              "      <th>Release</th>\n",
              "      <th>Genre</th>\n",
              "      <th>Developer</th>\n",
              "      <th>Publisher</th>\n",
              "    </tr>\n",
              "  </thead>\n",
              "  <tbody>\n",
              "    <tr>\n",
              "      <th>0</th>\n",
              "      <td>PlayerUnknown's Battlegrounds</td>\n",
              "      <td>42.0</td>\n",
              "      <td>NaN</td>\n",
              "      <td>12/1/2017</td>\n",
              "      <td>Battle royale</td>\n",
              "      <td>PUBG Studios</td>\n",
              "      <td>Krafton</td>\n",
              "    </tr>\n",
              "    <tr>\n",
              "      <th>1</th>\n",
              "      <td>Minecraft</td>\n",
              "      <td>33.0</td>\n",
              "      <td>Minecraft</td>\n",
              "      <td>11/1/2011</td>\n",
              "      <td>Sandbox, survival</td>\n",
              "      <td>Mojang Studios</td>\n",
              "      <td>Mojang Studios</td>\n",
              "    </tr>\n",
              "    <tr>\n",
              "      <th>2</th>\n",
              "      <td>Diablo III</td>\n",
              "      <td>20.0</td>\n",
              "      <td>Diablo</td>\n",
              "      <td>5/1/2012</td>\n",
              "      <td>Action role-playing</td>\n",
              "      <td>Blizzard Entertainment</td>\n",
              "      <td>Blizzard Entertainment</td>\n",
              "    </tr>\n",
              "    <tr>\n",
              "      <th>3</th>\n",
              "      <td>Garry's Mod</td>\n",
              "      <td>20.0</td>\n",
              "      <td>NaN</td>\n",
              "      <td>11/1/2006</td>\n",
              "      <td>Sandbox</td>\n",
              "      <td>Facepunch Studios</td>\n",
              "      <td>Valve</td>\n",
              "    </tr>\n",
              "    <tr>\n",
              "      <th>4</th>\n",
              "      <td>Terraria</td>\n",
              "      <td>17.2</td>\n",
              "      <td>NaN</td>\n",
              "      <td>5/1/2011</td>\n",
              "      <td>Action-adventure</td>\n",
              "      <td>Re-Logic</td>\n",
              "      <td>Re-Logic</td>\n",
              "    </tr>\n",
              "  </tbody>\n",
              "</table>\n",
              "</div>\n",
              "      <button class=\"colab-df-convert\" onclick=\"convertToInteractive('df-99023a9a-8c33-48bd-8931-b818e76a6e05')\"\n",
              "              title=\"Convert this dataframe to an interactive table.\"\n",
              "              style=\"display:none;\">\n",
              "        \n",
              "  <svg xmlns=\"http://www.w3.org/2000/svg\" height=\"24px\"viewBox=\"0 0 24 24\"\n",
              "       width=\"24px\">\n",
              "    <path d=\"M0 0h24v24H0V0z\" fill=\"none\"/>\n",
              "    <path d=\"M18.56 5.44l.94 2.06.94-2.06 2.06-.94-2.06-.94-.94-2.06-.94 2.06-2.06.94zm-11 1L8.5 8.5l.94-2.06 2.06-.94-2.06-.94L8.5 2.5l-.94 2.06-2.06.94zm10 10l.94 2.06.94-2.06 2.06-.94-2.06-.94-.94-2.06-.94 2.06-2.06.94z\"/><path d=\"M17.41 7.96l-1.37-1.37c-.4-.4-.92-.59-1.43-.59-.52 0-1.04.2-1.43.59L10.3 9.45l-7.72 7.72c-.78.78-.78 2.05 0 2.83L4 21.41c.39.39.9.59 1.41.59.51 0 1.02-.2 1.41-.59l7.78-7.78 2.81-2.81c.8-.78.8-2.07 0-2.86zM5.41 20L4 18.59l7.72-7.72 1.47 1.35L5.41 20z\"/>\n",
              "  </svg>\n",
              "      </button>\n",
              "      \n",
              "  <style>\n",
              "    .colab-df-container {\n",
              "      display:flex;\n",
              "      flex-wrap:wrap;\n",
              "      gap: 12px;\n",
              "    }\n",
              "\n",
              "    .colab-df-convert {\n",
              "      background-color: #E8F0FE;\n",
              "      border: none;\n",
              "      border-radius: 50%;\n",
              "      cursor: pointer;\n",
              "      display: none;\n",
              "      fill: #1967D2;\n",
              "      height: 32px;\n",
              "      padding: 0 0 0 0;\n",
              "      width: 32px;\n",
              "    }\n",
              "\n",
              "    .colab-df-convert:hover {\n",
              "      background-color: #E2EBFA;\n",
              "      box-shadow: 0px 1px 2px rgba(60, 64, 67, 0.3), 0px 1px 3px 1px rgba(60, 64, 67, 0.15);\n",
              "      fill: #174EA6;\n",
              "    }\n",
              "\n",
              "    [theme=dark] .colab-df-convert {\n",
              "      background-color: #3B4455;\n",
              "      fill: #D2E3FC;\n",
              "    }\n",
              "\n",
              "    [theme=dark] .colab-df-convert:hover {\n",
              "      background-color: #434B5C;\n",
              "      box-shadow: 0px 1px 3px 1px rgba(0, 0, 0, 0.15);\n",
              "      filter: drop-shadow(0px 1px 2px rgba(0, 0, 0, 0.3));\n",
              "      fill: #FFFFFF;\n",
              "    }\n",
              "  </style>\n",
              "\n",
              "      <script>\n",
              "        const buttonEl =\n",
              "          document.querySelector('#df-99023a9a-8c33-48bd-8931-b818e76a6e05 button.colab-df-convert');\n",
              "        buttonEl.style.display =\n",
              "          google.colab.kernel.accessAllowed ? 'block' : 'none';\n",
              "\n",
              "        async function convertToInteractive(key) {\n",
              "          const element = document.querySelector('#df-99023a9a-8c33-48bd-8931-b818e76a6e05');\n",
              "          const dataTable =\n",
              "            await google.colab.kernel.invokeFunction('convertToInteractive',\n",
              "                                                     [key], {});\n",
              "          if (!dataTable) return;\n",
              "\n",
              "          const docLinkHtml = 'Like what you see? Visit the ' +\n",
              "            '<a target=\"_blank\" href=https://colab.research.google.com/notebooks/data_table.ipynb>data table notebook</a>'\n",
              "            + ' to learn more about interactive tables.';\n",
              "          element.innerHTML = '';\n",
              "          dataTable['output_type'] = 'display_data';\n",
              "          await google.colab.output.renderOutput(dataTable, element);\n",
              "          const docLink = document.createElement('div');\n",
              "          docLink.innerHTML = docLinkHtml;\n",
              "          element.appendChild(docLink);\n",
              "        }\n",
              "      </script>\n",
              "    </div>\n",
              "  </div>\n",
              "  "
            ]
          },
          "metadata": {},
          "execution_count": 3
        }
      ]
    },
    {
      "cell_type": "markdown",
      "source": [
        "Last step, I checked the dataframe and the data types in there using info() function in pandas. There were 7 columns with 177 rows, only sales column had the float64 data type, the rest of columns had object data type. Release column contains release date of the game, and the data type should be in datetime format. Also look at the series column, it only has 141 non-null values out of 177 total rows. It means that there are 36 null values in the series column. I will handle this in the data process step in the next section."
      ],
      "metadata": {
        "id": "um5my_2KusPT"
      }
    },
    {
      "cell_type": "code",
      "source": [
        "df.info()"
      ],
      "metadata": {
        "colab": {
          "base_uri": "https://localhost:8080/"
        },
        "id": "Cvt0VeJnmpig",
        "outputId": "0053ec58-16c1-468a-b887-3ca57a6f3c92"
      },
      "execution_count": 4,
      "outputs": [
        {
          "output_type": "stream",
          "name": "stdout",
          "text": [
            "<class 'pandas.core.frame.DataFrame'>\n",
            "RangeIndex: 177 entries, 0 to 176\n",
            "Data columns (total 7 columns):\n",
            " #   Column     Non-Null Count  Dtype  \n",
            "---  ------     --------------  -----  \n",
            " 0   Name       177 non-null    object \n",
            " 1   Sales      177 non-null    float64\n",
            " 2   Series     141 non-null    object \n",
            " 3   Release    177 non-null    object \n",
            " 4   Genre      177 non-null    object \n",
            " 5   Developer  177 non-null    object \n",
            " 6   Publisher  177 non-null    object \n",
            "dtypes: float64(1), object(6)\n",
            "memory usage: 9.8+ KB\n"
          ]
        }
      ]
    },
    {
      "cell_type": "markdown",
      "source": [
        "## 3. Process\n"
      ],
      "metadata": {
        "id": "rFkXlU1r6IpO"
      }
    },
    {
      "cell_type": "markdown",
      "source": [
        "### 3.1 Data Cleaning\n",
        "As mentioned previously, there were 36 null values in the 'series' column. Series column contains of name of the game series, which also contain the game name itself. For example, Diablo was the name of game series Diablo I, II, and III; or The Sims which was the name of game series The Sims 1, 2, and 3. Therefore, I cleaned those null values by replacing them with corresponding game name. \n",
        "\\\n",
        "Using pandas, I splitted strings in the 'name' column and defined it as splits array. In s_cl, it only took the first string (which was the first name of the game) from strings that had been splitted in splits array."
      ],
      "metadata": {
        "id": "sV-7HgYa-7jm"
      }
    },
    {
      "cell_type": "code",
      "source": [
        "splits = df['Name'].str.split()\n",
        "s_cl = splits.str[0]\n",
        "\n",
        "df['Series'].fillna(s_cl, inplace = True)"
      ],
      "metadata": {
        "id": "q6ZKb7xZIS96"
      },
      "execution_count": 5,
      "outputs": []
    },
    {
      "cell_type": "code",
      "source": [
        "df.head()"
      ],
      "metadata": {
        "colab": {
          "base_uri": "https://localhost:8080/",
          "height": 250
        },
        "id": "7cEKIpaBH88z",
        "outputId": "be4b15f0-b622-46d0-9bcf-a138f1605c88"
      },
      "execution_count": 12,
      "outputs": [
        {
          "output_type": "execute_result",
          "data": {
            "text/plain": [
              "                            Name  Sales           Series    Release  \\\n",
              "0  PlayerUnknown's Battlegrounds   42.0  PlayerUnknown's  12/1/2017   \n",
              "1                      Minecraft   33.0        Minecraft  11/1/2011   \n",
              "2                     Diablo III   20.0           Diablo   5/1/2012   \n",
              "3                    Garry's Mod   20.0          Garry's  11/1/2006   \n",
              "4                       Terraria   17.2         Terraria   5/1/2011   \n",
              "\n",
              "                 Genre               Developer               Publisher  \n",
              "0        Battle royale            PUBG Studios                 Krafton  \n",
              "1    Sandbox, survival          Mojang Studios          Mojang Studios  \n",
              "2  Action role-playing  Blizzard Entertainment  Blizzard Entertainment  \n",
              "3              Sandbox       Facepunch Studios                   Valve  \n",
              "4     Action-adventure                Re-Logic                Re-Logic  "
            ],
            "text/html": [
              "\n",
              "  <div id=\"df-ac9313cc-0307-4f9e-9262-77b8a222a2eb\">\n",
              "    <div class=\"colab-df-container\">\n",
              "      <div>\n",
              "<style scoped>\n",
              "    .dataframe tbody tr th:only-of-type {\n",
              "        vertical-align: middle;\n",
              "    }\n",
              "\n",
              "    .dataframe tbody tr th {\n",
              "        vertical-align: top;\n",
              "    }\n",
              "\n",
              "    .dataframe thead th {\n",
              "        text-align: right;\n",
              "    }\n",
              "</style>\n",
              "<table border=\"1\" class=\"dataframe\">\n",
              "  <thead>\n",
              "    <tr style=\"text-align: right;\">\n",
              "      <th></th>\n",
              "      <th>Name</th>\n",
              "      <th>Sales</th>\n",
              "      <th>Series</th>\n",
              "      <th>Release</th>\n",
              "      <th>Genre</th>\n",
              "      <th>Developer</th>\n",
              "      <th>Publisher</th>\n",
              "    </tr>\n",
              "  </thead>\n",
              "  <tbody>\n",
              "    <tr>\n",
              "      <th>0</th>\n",
              "      <td>PlayerUnknown's Battlegrounds</td>\n",
              "      <td>42.0</td>\n",
              "      <td>PlayerUnknown's</td>\n",
              "      <td>12/1/2017</td>\n",
              "      <td>Battle royale</td>\n",
              "      <td>PUBG Studios</td>\n",
              "      <td>Krafton</td>\n",
              "    </tr>\n",
              "    <tr>\n",
              "      <th>1</th>\n",
              "      <td>Minecraft</td>\n",
              "      <td>33.0</td>\n",
              "      <td>Minecraft</td>\n",
              "      <td>11/1/2011</td>\n",
              "      <td>Sandbox, survival</td>\n",
              "      <td>Mojang Studios</td>\n",
              "      <td>Mojang Studios</td>\n",
              "    </tr>\n",
              "    <tr>\n",
              "      <th>2</th>\n",
              "      <td>Diablo III</td>\n",
              "      <td>20.0</td>\n",
              "      <td>Diablo</td>\n",
              "      <td>5/1/2012</td>\n",
              "      <td>Action role-playing</td>\n",
              "      <td>Blizzard Entertainment</td>\n",
              "      <td>Blizzard Entertainment</td>\n",
              "    </tr>\n",
              "    <tr>\n",
              "      <th>3</th>\n",
              "      <td>Garry's Mod</td>\n",
              "      <td>20.0</td>\n",
              "      <td>Garry's</td>\n",
              "      <td>11/1/2006</td>\n",
              "      <td>Sandbox</td>\n",
              "      <td>Facepunch Studios</td>\n",
              "      <td>Valve</td>\n",
              "    </tr>\n",
              "    <tr>\n",
              "      <th>4</th>\n",
              "      <td>Terraria</td>\n",
              "      <td>17.2</td>\n",
              "      <td>Terraria</td>\n",
              "      <td>5/1/2011</td>\n",
              "      <td>Action-adventure</td>\n",
              "      <td>Re-Logic</td>\n",
              "      <td>Re-Logic</td>\n",
              "    </tr>\n",
              "  </tbody>\n",
              "</table>\n",
              "</div>\n",
              "      <button class=\"colab-df-convert\" onclick=\"convertToInteractive('df-ac9313cc-0307-4f9e-9262-77b8a222a2eb')\"\n",
              "              title=\"Convert this dataframe to an interactive table.\"\n",
              "              style=\"display:none;\">\n",
              "        \n",
              "  <svg xmlns=\"http://www.w3.org/2000/svg\" height=\"24px\"viewBox=\"0 0 24 24\"\n",
              "       width=\"24px\">\n",
              "    <path d=\"M0 0h24v24H0V0z\" fill=\"none\"/>\n",
              "    <path d=\"M18.56 5.44l.94 2.06.94-2.06 2.06-.94-2.06-.94-.94-2.06-.94 2.06-2.06.94zm-11 1L8.5 8.5l.94-2.06 2.06-.94-2.06-.94L8.5 2.5l-.94 2.06-2.06.94zm10 10l.94 2.06.94-2.06 2.06-.94-2.06-.94-.94-2.06-.94 2.06-2.06.94z\"/><path d=\"M17.41 7.96l-1.37-1.37c-.4-.4-.92-.59-1.43-.59-.52 0-1.04.2-1.43.59L10.3 9.45l-7.72 7.72c-.78.78-.78 2.05 0 2.83L4 21.41c.39.39.9.59 1.41.59.51 0 1.02-.2 1.41-.59l7.78-7.78 2.81-2.81c.8-.78.8-2.07 0-2.86zM5.41 20L4 18.59l7.72-7.72 1.47 1.35L5.41 20z\"/>\n",
              "  </svg>\n",
              "      </button>\n",
              "      \n",
              "  <style>\n",
              "    .colab-df-container {\n",
              "      display:flex;\n",
              "      flex-wrap:wrap;\n",
              "      gap: 12px;\n",
              "    }\n",
              "\n",
              "    .colab-df-convert {\n",
              "      background-color: #E8F0FE;\n",
              "      border: none;\n",
              "      border-radius: 50%;\n",
              "      cursor: pointer;\n",
              "      display: none;\n",
              "      fill: #1967D2;\n",
              "      height: 32px;\n",
              "      padding: 0 0 0 0;\n",
              "      width: 32px;\n",
              "    }\n",
              "\n",
              "    .colab-df-convert:hover {\n",
              "      background-color: #E2EBFA;\n",
              "      box-shadow: 0px 1px 2px rgba(60, 64, 67, 0.3), 0px 1px 3px 1px rgba(60, 64, 67, 0.15);\n",
              "      fill: #174EA6;\n",
              "    }\n",
              "\n",
              "    [theme=dark] .colab-df-convert {\n",
              "      background-color: #3B4455;\n",
              "      fill: #D2E3FC;\n",
              "    }\n",
              "\n",
              "    [theme=dark] .colab-df-convert:hover {\n",
              "      background-color: #434B5C;\n",
              "      box-shadow: 0px 1px 3px 1px rgba(0, 0, 0, 0.15);\n",
              "      filter: drop-shadow(0px 1px 2px rgba(0, 0, 0, 0.3));\n",
              "      fill: #FFFFFF;\n",
              "    }\n",
              "  </style>\n",
              "\n",
              "      <script>\n",
              "        const buttonEl =\n",
              "          document.querySelector('#df-ac9313cc-0307-4f9e-9262-77b8a222a2eb button.colab-df-convert');\n",
              "        buttonEl.style.display =\n",
              "          google.colab.kernel.accessAllowed ? 'block' : 'none';\n",
              "\n",
              "        async function convertToInteractive(key) {\n",
              "          const element = document.querySelector('#df-ac9313cc-0307-4f9e-9262-77b8a222a2eb');\n",
              "          const dataTable =\n",
              "            await google.colab.kernel.invokeFunction('convertToInteractive',\n",
              "                                                     [key], {});\n",
              "          if (!dataTable) return;\n",
              "\n",
              "          const docLinkHtml = 'Like what you see? Visit the ' +\n",
              "            '<a target=\"_blank\" href=https://colab.research.google.com/notebooks/data_table.ipynb>data table notebook</a>'\n",
              "            + ' to learn more about interactive tables.';\n",
              "          element.innerHTML = '';\n",
              "          dataTable['output_type'] = 'display_data';\n",
              "          await google.colab.output.renderOutput(dataTable, element);\n",
              "          const docLink = document.createElement('div');\n",
              "          docLink.innerHTML = docLinkHtml;\n",
              "          element.appendChild(docLink);\n",
              "        }\n",
              "      </script>\n",
              "    </div>\n",
              "  </div>\n",
              "  "
            ]
          },
          "metadata": {},
          "execution_count": 12
        }
      ]
    },
    {
      "cell_type": "markdown",
      "source": [
        "Next, 'release' column had object/string data type. To format it into the proper datetime data type, I used the to_datetime()."
      ],
      "metadata": {
        "id": "YSDMBF1Y60ke"
      }
    },
    {
      "cell_type": "code",
      "source": [
        "df['Release'] = pd.to_datetime(df['Release'])"
      ],
      "metadata": {
        "id": "BRGydFz57iBM"
      },
      "execution_count": 6,
      "outputs": []
    },
    {
      "cell_type": "markdown",
      "source": [
        "After replacing those nulls and changed the 'release' column data type, I then re-checked the dataframe. The result showing that no null values remained, and the data type was changed successfully. By seeing this information, it also showed that there were not any duplication in the dataframe. Now, the data is ready to analyze."
      ],
      "metadata": {
        "id": "v1-56qX_3X7G"
      }
    },
    {
      "cell_type": "code",
      "source": [
        "df.info()"
      ],
      "metadata": {
        "colab": {
          "base_uri": "https://localhost:8080/"
        },
        "id": "BdwUIXWUJfmF",
        "outputId": "e8fd9761-064b-4f5e-8f52-9071663f5d20"
      },
      "execution_count": 7,
      "outputs": [
        {
          "output_type": "stream",
          "name": "stdout",
          "text": [
            "<class 'pandas.core.frame.DataFrame'>\n",
            "RangeIndex: 177 entries, 0 to 176\n",
            "Data columns (total 7 columns):\n",
            " #   Column     Non-Null Count  Dtype         \n",
            "---  ------     --------------  -----         \n",
            " 0   Name       177 non-null    object        \n",
            " 1   Sales      177 non-null    float64       \n",
            " 2   Series     177 non-null    object        \n",
            " 3   Release    177 non-null    datetime64[ns]\n",
            " 4   Genre      177 non-null    object        \n",
            " 5   Developer  177 non-null    object        \n",
            " 6   Publisher  177 non-null    object        \n",
            "dtypes: datetime64[ns](1), float64(1), object(5)\n",
            "memory usage: 9.8+ KB\n"
          ]
        }
      ]
    },
    {
      "cell_type": "markdown",
      "source": [
        "## 4. Analyze"
      ],
      "metadata": {
        "id": "sLvvlgZn8pLk"
      }
    },
    {
      "cell_type": "markdown",
      "source": [
        "### 4.1 Oldest and Newest Games"
      ],
      "metadata": {
        "id": "_XbEngkn_k39"
      }
    },
    {
      "cell_type": "markdown",
      "source": [
        "To get the oldest games released, I sorted the release date in ascending order. Thus, the oldest release date would be on top of the dataframe. Then, I set the range of index to show the first ten data in the dataframe.  "
      ],
      "metadata": {
        "id": "RkWhYULdU7k2"
      }
    },
    {
      "cell_type": "code",
      "source": [
        "# Game release sorted ascending (from oldest)\n",
        "gr_old = df.sort_values(by='Release', ascending=True)\n",
        "\n",
        "# Print 10 oldest games\n",
        "print(gr_old[['Name', 'Release','Series','Publisher']][:10])"
      ],
      "metadata": {
        "colab": {
          "base_uri": "https://localhost:8080/"
        },
        "id": "h7tFuONtAySH",
        "outputId": "6e13b5e4-5950-4615-c192-57d42f726911"
      },
      "execution_count": 10,
      "outputs": [
        {
          "output_type": "stream",
          "name": "stdout",
          "text": [
            "                                       Name    Release                Series  \\\n",
            "133                                 Hydlide 1984-12-01               Hydlide   \n",
            "34   Where in the World Is Carmen Sandiego? 1985-06-01       Carmen Sandiego   \n",
            "88                     International Karate 1985-11-01  International Karate   \n",
            "162                                  Tetris 1988-01-01                Tetris   \n",
            "22                             Last Ninja 2 1988-08-01        The Last Ninja   \n",
            "151                                 RoboCop 1988-12-01               RoboCop   \n",
            "30                                 Populous 1989-06-01              Populous   \n",
            "150                          Return to Zork 1993-08-01                  Zork   \n",
            "51                                     Myst 1993-09-01                  Myst   \n",
            "156                Star Wars: Rebel Assault 1993-11-01             Star Wars   \n",
            "\n",
            "                                 Publisher  \n",
            "133  Technology and Entertainment Software  \n",
            "34                              Broderbund  \n",
            "88                                    Epyx  \n",
            "162                      Spectrum HoloByte  \n",
            "22                              Activision  \n",
            "151              Data East, Ocean Software  \n",
            "30                         Electronic Arts  \n",
            "150                             Activision  \n",
            "51                              Brøderbund  \n",
            "156                              LucasArts  \n"
          ]
        }
      ]
    },
    {
      "cell_type": "markdown",
      "source": [
        "As mentioned previously, gr_old variable sorted the dataframe by release column in ascending order. Which the oldest games were on top, and the newest games were on the last order in the dataframe. To get the newest games released, I reversed the range of index using negative stop value to extract last 10<sup>th</sup> data in the dataframe and negative step value to decrement one step. "
      ],
      "metadata": {
        "id": "jXnFWEaNac4v"
      }
    },
    {
      "cell_type": "code",
      "source": [
        "# Print 10 newest games\n",
        "print(gr_old[['Name', 'Release','Series','Publisher']][:-10:-1])"
      ],
      "metadata": {
        "colab": {
          "base_uri": "https://localhost:8080/"
        },
        "id": "SLV3GB3NC9Mj",
        "outputId": "d768b119-50f2-40ad-d57b-e869568cb3e8"
      },
      "execution_count": 11,
      "outputs": [
        {
          "output_type": "stream",
          "name": "stdout",
          "text": [
            "                          Name    Release          Series  \\\n",
            "20                     Valheim 2021-02-01         Valheim   \n",
            "27              Cyberpunk 2077 2020-12-01       Cyberpunk   \n",
            "110         Crusader Kings III 2020-09-01  Crusader Kings   \n",
            "10                   Fall Guys 2020-08-01            Fall   \n",
            "139                    Mordhau 2019-04-01         Mordhau   \n",
            "92                Satisfactory 2019-03-01    Satisfactory   \n",
            "26                  The Forest 2018-04-01             The   \n",
            "13                        Rust 2018-02-01            Rust   \n",
            "96   Kingdom Come: Deliverance 2018-02-01         Kingdom   \n",
            "\n",
            "                   Publisher  \n",
            "20   Coffee Stain Publishing  \n",
            "27                CD Projekt  \n",
            "110      Paradox Interactive  \n",
            "10          Devolver Digital  \n",
            "139               Triternion  \n",
            "92   Coffee Stain Publishing  \n",
            "26            Endnight Games  \n",
            "13         Facepunch Studios  \n",
            "96          Warhorse Studios  \n"
          ]
        }
      ]
    },
    {
      "cell_type": "markdown",
      "source": [
        "### 4.2 Most Productive Developers and Publishers"
      ],
      "metadata": {
        "id": "T5PDQm1C-1WF"
      }
    },
    {
      "cell_type": "markdown",
      "source": [
        "I counted rows of records in the developer and publisher column and grouped it into distinct string in their own column. After that, I extracted the top 5 developers and publishers using .nlargest() function. Then, plot them into a horizontal bar chart."
      ],
      "metadata": {
        "id": "upQ_rsBidrJc"
      }
    },
    {
      "cell_type": "code",
      "source": [
        "# Count how many records are in developers column, group by itself\n",
        "dev = df.groupby(['Developer'])['Developer'].count()\n",
        "\n",
        "# Top N using .nlargest() in Pandas\n",
        "top5_dev = dev.nlargest(5)\n",
        "\n",
        "# Plot the top N into the horizontal bar chart in Pandas\n",
        "dev_g = top5_dev.plot(kind='barh', figsize=(10, 6))\n",
        "plt.title(\"Top 5 Productive Developers\")\n",
        "plt.xlabel(\"Total Games\")\n",
        "plt.ylabel(\"Publisher\")\n",
        "plt.show()"
      ],
      "metadata": {
        "colab": {
          "base_uri": "https://localhost:8080/",
          "height": 404
        },
        "id": "n-jHgEhu_hQY",
        "outputId": "91083745-b3ad-476a-83fa-d13377cf3c3d"
      },
      "execution_count": 13,
      "outputs": [
        {
          "output_type": "display_data",
          "data": {
            "text/plain": [
              "<Figure size 720x432 with 1 Axes>"
            ],
            "image/png": "[encoded data removed]"
          },
          "metadata": {
            "needs_background": "light"
          }
        }
      ]
    },
    {
      "cell_type": "code",
      "source": [
        "# Count how many records are in publisher column, group by itself\n",
        "pub = df.groupby(['Publisher'])['Publisher'].count()\n",
        "\n",
        "# Top N using .nlargest() in Pandas\n",
        "top5_pub = pub.nlargest(5)\n",
        "\n",
        "# Plot the top N into a horizontal bar chart in Pandas\n",
        "pub_g = top5_pub.plot(kind='barh', figsize=(10, 6))\n",
        "\n",
        "# Show the value label using .bar_label() in Matplotlib\n",
        "plt.title(\"Top 5 Productive Publishers\")\n",
        "plt.xlabel(\"Total Games\")\n",
        "plt.ylabel(\"Developer\")\n",
        "pub_g.bar_label(pub_g.containers[0])\n",
        "plt.show()"
      ],
      "metadata": {
        "colab": {
          "base_uri": "https://localhost:8080/",
          "height": 404
        },
        "id": "RQU0iW93GQ61",
        "outputId": "ea7d30d5-08f0-47f2-c0f7-b462b7ea9e6a"
      },
      "execution_count": 14,
      "outputs": [
        {
          "output_type": "display_data",
          "data": {
            "text/plain": [
              "<Figure size 720x432 with 1 Axes>"
            ],
            "image/png": "[encoded data removed]"
          },
          "metadata": {
            "needs_background": "light"
          }
        }
      ]
    },
    {
      "cell_type": "markdown",
      "source": [
        "### 4.3 Game Series and Sales\n"
      ],
      "metadata": {
        "id": "0BHYKfHJ-3ED"
      }
    },
    {
      "cell_type": "markdown",
      "source": [
        "I did the same step as previously to perform top 5 series with the most games. I counted rows of records in series column, then grouped it into distinct string in its column. I took the top 5 series using .nlargest() function, then plot it into a horizontal bar chart."
      ],
      "metadata": {
        "id": "xJv2h5EkflJP"
      }
    },
    {
      "cell_type": "code",
      "source": [
        "# Make a raw dataframe to exclude null or NaN values in series column aggregation\n",
        "raw = pd.read_csv(files)\n",
        "\n",
        "# Count how many records are in series column, group by itself\n",
        "sg = raw.groupby(['Series'])['Series'].count()\n",
        "\n",
        "# Top N using .nlargest() in Pandas\n",
        "top5_sg = sg.nlargest(5)\n",
        "\n",
        "# Plot the top N into a horizontal bar in Pandas\n",
        "sg_bar = top5_sg.plot(kind='barh', figsize=(10, 6))\n",
        "\n",
        "plt.title(\"Top 5 Series with The Most Games\")\n",
        "plt.xlabel(\"Total Games\")\n",
        "plt.ylabel(\"Series\")\n",
        "plt.show()"
      ],
      "metadata": {
        "colab": {
          "base_uri": "https://localhost:8080/",
          "height": 404
        },
        "id": "wRPkS9IfOnvx",
        "outputId": "f2e19339-0d80-414e-a0a6-9e3768556709"
      },
      "execution_count": 17,
      "outputs": [
        {
          "output_type": "display_data",
          "data": {
            "text/plain": [
              "<Figure size 720x432 with 1 Axes>"
            ],
            "image/png": "[encoded data removed]"
          },
          "metadata": {
            "needs_background": "light"
          }
        }
      ]
    },
    {
      "cell_type": "markdown",
      "source": [
        "Sales analysis also used the same steps as previously, but I summed the sales value and grouped it into distinct series."
      ],
      "metadata": {
        "id": "dwdrszEWgkFY"
      }
    },
    {
      "cell_type": "code",
      "source": [
        "# Calculate total sales group by series\n",
        "s_sales = raw.groupby(['Series'])['Sales'].sum()\n",
        "\n",
        "# Sort the top N in series sales\n",
        "top5_sales = s_sales.nlargest(5)\n",
        "\n",
        "# Plot the top N sales into a bar chart\n",
        "sales_g = top5_sales.plot(kind='barh', figsize=(10, 6))\n",
        "plt.title(\"Top 5 Series with Highest Sales\")\n",
        "plt.xlabel(\"Total Sales (in million USD)\")\n",
        "plt.ylabel(\"Series\")\n",
        "sales_g.bar_label(sales_g.containers[0])\n",
        "plt.show()"
      ],
      "metadata": {
        "colab": {
          "base_uri": "https://localhost:8080/",
          "height": 404
        },
        "id": "i5P1J4QQQgAV",
        "outputId": "6134ba81-4e73-40b0-8e9e-0d06894e2ad7"
      },
      "execution_count": 18,
      "outputs": [
        {
          "output_type": "display_data",
          "data": {
            "text/plain": [
              "<Figure size 720x432 with 1 Axes>"
            ],
            "image/png": "[encoded data removed]"
          },
          "metadata": {
            "needs_background": "light"
          }
        }
      ]
    },
    {
      "cell_type": "markdown",
      "source": [
        "## Share\n",
        "All findings in this analysis will be presented in a slide or powerpoint file as requested by the stakeholder. "
      ],
      "metadata": {
        "id": "repF5tNUg-oU"
      }
    },
    {
      "cell_type": "markdown",
      "source": [
        "## Act\n",
        "* Which game is the oldest and the newest games in that dataset? <br> \n",
        "Hydlide was the oldest game (published in December 1<sup>st</sup> , 1984) and Valeheim was the newest game (published in February 1<sup>st</sup> , 2021).\n",
        "\n",
        "* Which publisher published most of the games? <br>\n",
        "Top 5 publishers with the most games published were Electronic Arts (19 games), Blizzard Entertainment (10 games), Paradox Interactive (7 games), Activision (6 games), and GT Interactive (5 games).\n",
        "\n",
        "* Which developer developed most of the games? <br>\n",
        "Top 5 developers with the most games developed were Blizzard Entertainment (10 games), Maxis (6 games), Paradox Development Studio (5 games), CD Projekt Red (4 games), and Capcom (4 games).\n",
        "\n",
        "* Which series is the most sales? <br>\n",
        "Top 5 Series with the highest sales were Minecraft (33 million USD), Diablo (26 million USD), The Sims (24 million USD), Half-Life (21 million USD), and StarCraft (21 million USD). \n",
        "\n",
        "* Which series have the most games? <br> \n",
        "Top 5 series with the most games were StarCraft (6 games), Command & Conquer (5 games), Age of Empires (4 games), Civilization (4 games), and Dark Souls (3 games)."
      ],
      "metadata": {
        "id": "eXCdSl-1i8Cm"
      }
    }
  ]
}